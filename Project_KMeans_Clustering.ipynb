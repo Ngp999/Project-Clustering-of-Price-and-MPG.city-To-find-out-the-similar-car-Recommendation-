{
 "cells": [
  {
   "cell_type": "markdown",
   "id": "e24ce5d5",
   "metadata": {},
   "source": [
    "# Project: Clustering of Price and MPG.city, To find out the similar car Recommendation"
   ]
  },
  {
   "cell_type": "markdown",
   "id": "37a2c0a8",
   "metadata": {},
   "source": [
    "# Importing important libraries"
   ]
  },
  {
   "cell_type": "code",
   "execution_count": 2,
   "id": "ccb554af",
   "metadata": {},
   "outputs": [],
   "source": [
    "import pandas as pd\n",
    "from warnings import filterwarnings\n",
    "filterwarnings(\"ignore\")"
   ]
  },
  {
   "cell_type": "markdown",
   "id": "4ac7fae0",
   "metadata": {},
   "source": [
    "# Read the dataset"
   ]
  },
  {
   "cell_type": "code",
   "execution_count": 3,
   "id": "ff1b0c95",
   "metadata": {},
   "outputs": [
    {
     "data": {
      "text/html": [
       "<div>\n",
       "<style scoped>\n",
       "    .dataframe tbody tr th:only-of-type {\n",
       "        vertical-align: middle;\n",
       "    }\n",
       "\n",
       "    .dataframe tbody tr th {\n",
       "        vertical-align: top;\n",
       "    }\n",
       "\n",
       "    .dataframe thead th {\n",
       "        text-align: right;\n",
       "    }\n",
       "</style>\n",
       "<table border=\"1\" class=\"dataframe\">\n",
       "  <thead>\n",
       "    <tr style=\"text-align: right;\">\n",
       "      <th></th>\n",
       "      <th>id</th>\n",
       "      <th>Manufacturer</th>\n",
       "      <th>Model</th>\n",
       "      <th>Type</th>\n",
       "      <th>Min.Price</th>\n",
       "      <th>Price</th>\n",
       "      <th>Max.Price</th>\n",
       "      <th>MPG.city</th>\n",
       "      <th>MPG.highway</th>\n",
       "      <th>AirBags</th>\n",
       "      <th>...</th>\n",
       "      <th>Passengers</th>\n",
       "      <th>Length</th>\n",
       "      <th>Wheelbase</th>\n",
       "      <th>Width</th>\n",
       "      <th>Turn.circle</th>\n",
       "      <th>Rear.seat.room</th>\n",
       "      <th>Luggage.room</th>\n",
       "      <th>Weight</th>\n",
       "      <th>Origin</th>\n",
       "      <th>Make</th>\n",
       "    </tr>\n",
       "  </thead>\n",
       "  <tbody>\n",
       "    <tr>\n",
       "      <th>0</th>\n",
       "      <td>1</td>\n",
       "      <td>Acura</td>\n",
       "      <td>Integra</td>\n",
       "      <td>Small</td>\n",
       "      <td>12.9</td>\n",
       "      <td>15.9</td>\n",
       "      <td>18.8</td>\n",
       "      <td>25</td>\n",
       "      <td>31</td>\n",
       "      <td>None</td>\n",
       "      <td>...</td>\n",
       "      <td>5</td>\n",
       "      <td>177</td>\n",
       "      <td>102</td>\n",
       "      <td>68</td>\n",
       "      <td>37</td>\n",
       "      <td>26.5</td>\n",
       "      <td>11.0</td>\n",
       "      <td>2705</td>\n",
       "      <td>non-USA</td>\n",
       "      <td>Acura Integra</td>\n",
       "    </tr>\n",
       "    <tr>\n",
       "      <th>1</th>\n",
       "      <td>2</td>\n",
       "      <td>Acura</td>\n",
       "      <td>Legend</td>\n",
       "      <td>Midsize</td>\n",
       "      <td>29.2</td>\n",
       "      <td>33.9</td>\n",
       "      <td>38.7</td>\n",
       "      <td>18</td>\n",
       "      <td>25</td>\n",
       "      <td>Driver &amp; Passenger</td>\n",
       "      <td>...</td>\n",
       "      <td>5</td>\n",
       "      <td>195</td>\n",
       "      <td>115</td>\n",
       "      <td>71</td>\n",
       "      <td>38</td>\n",
       "      <td>30.0</td>\n",
       "      <td>15.0</td>\n",
       "      <td>3560</td>\n",
       "      <td>non-USA</td>\n",
       "      <td>Acura Legend</td>\n",
       "    </tr>\n",
       "    <tr>\n",
       "      <th>2</th>\n",
       "      <td>3</td>\n",
       "      <td>Audi</td>\n",
       "      <td>90</td>\n",
       "      <td>Compact</td>\n",
       "      <td>25.9</td>\n",
       "      <td>29.1</td>\n",
       "      <td>32.3</td>\n",
       "      <td>20</td>\n",
       "      <td>26</td>\n",
       "      <td>Driver only</td>\n",
       "      <td>...</td>\n",
       "      <td>5</td>\n",
       "      <td>180</td>\n",
       "      <td>102</td>\n",
       "      <td>67</td>\n",
       "      <td>37</td>\n",
       "      <td>28.0</td>\n",
       "      <td>14.0</td>\n",
       "      <td>3375</td>\n",
       "      <td>non-USA</td>\n",
       "      <td>Audi 90</td>\n",
       "    </tr>\n",
       "    <tr>\n",
       "      <th>3</th>\n",
       "      <td>4</td>\n",
       "      <td>Audi</td>\n",
       "      <td>100</td>\n",
       "      <td>Midsize</td>\n",
       "      <td>30.8</td>\n",
       "      <td>37.7</td>\n",
       "      <td>44.6</td>\n",
       "      <td>19</td>\n",
       "      <td>26</td>\n",
       "      <td>NaN</td>\n",
       "      <td>...</td>\n",
       "      <td>6</td>\n",
       "      <td>193</td>\n",
       "      <td>106</td>\n",
       "      <td>70</td>\n",
       "      <td>37</td>\n",
       "      <td>31.0</td>\n",
       "      <td>17.0</td>\n",
       "      <td>3405</td>\n",
       "      <td>non-USA</td>\n",
       "      <td>Audi 100</td>\n",
       "    </tr>\n",
       "    <tr>\n",
       "      <th>4</th>\n",
       "      <td>5</td>\n",
       "      <td>BMW</td>\n",
       "      <td>535i</td>\n",
       "      <td>Midsize</td>\n",
       "      <td>23.7</td>\n",
       "      <td>30.0</td>\n",
       "      <td>36.2</td>\n",
       "      <td>22</td>\n",
       "      <td>30</td>\n",
       "      <td>Driver only</td>\n",
       "      <td>...</td>\n",
       "      <td>4</td>\n",
       "      <td>186</td>\n",
       "      <td>109</td>\n",
       "      <td>69</td>\n",
       "      <td>39</td>\n",
       "      <td>27.0</td>\n",
       "      <td>13.0</td>\n",
       "      <td>3640</td>\n",
       "      <td>non-USA</td>\n",
       "      <td>BMW 535i</td>\n",
       "    </tr>\n",
       "  </tbody>\n",
       "</table>\n",
       "<p>5 rows × 28 columns</p>\n",
       "</div>"
      ],
      "text/plain": [
       "   id Manufacturer    Model     Type  Min.Price  Price  Max.Price  MPG.city  \\\n",
       "0   1        Acura  Integra    Small       12.9   15.9       18.8        25   \n",
       "1   2        Acura   Legend  Midsize       29.2   33.9       38.7        18   \n",
       "2   3         Audi       90  Compact       25.9   29.1       32.3        20   \n",
       "3   4         Audi      100  Midsize       30.8   37.7       44.6        19   \n",
       "4   5          BMW     535i  Midsize       23.7   30.0       36.2        22   \n",
       "\n",
       "   MPG.highway             AirBags  ... Passengers Length  Wheelbase  Width  \\\n",
       "0           31                None  ...          5    177        102     68   \n",
       "1           25  Driver & Passenger  ...          5    195        115     71   \n",
       "2           26         Driver only  ...          5    180        102     67   \n",
       "3           26                 NaN  ...          6    193        106     70   \n",
       "4           30         Driver only  ...          4    186        109     69   \n",
       "\n",
       "   Turn.circle  Rear.seat.room Luggage.room  Weight   Origin           Make  \n",
       "0           37            26.5         11.0    2705  non-USA  Acura Integra  \n",
       "1           38            30.0         15.0    3560  non-USA   Acura Legend  \n",
       "2           37            28.0         14.0    3375  non-USA        Audi 90  \n",
       "3           37            31.0         17.0    3405  non-USA       Audi 100  \n",
       "4           39            27.0         13.0    3640  non-USA       BMW 535i  \n",
       "\n",
       "[5 rows x 28 columns]"
      ]
     },
     "execution_count": 3,
     "metadata": {},
     "output_type": "execute_result"
    }
   ],
   "source": [
    "A = pd.read_csv(\"C:/Users/JOHN/Downloads/Cars93.csv\")\n",
    "A.head()"
   ]
  },
  {
   "cell_type": "markdown",
   "id": "e14765c1",
   "metadata": {},
   "source": [
    "# from the above dataset taking \"Price\" and \"MPG.city\" columns and clustering of it"
   ]
  },
  {
   "cell_type": "code",
   "execution_count": 4,
   "id": "5f3d62a3",
   "metadata": {},
   "outputs": [
    {
     "data": {
      "text/html": [
       "<div>\n",
       "<style scoped>\n",
       "    .dataframe tbody tr th:only-of-type {\n",
       "        vertical-align: middle;\n",
       "    }\n",
       "\n",
       "    .dataframe tbody tr th {\n",
       "        vertical-align: top;\n",
       "    }\n",
       "\n",
       "    .dataframe thead th {\n",
       "        text-align: right;\n",
       "    }\n",
       "</style>\n",
       "<table border=\"1\" class=\"dataframe\">\n",
       "  <thead>\n",
       "    <tr style=\"text-align: right;\">\n",
       "      <th></th>\n",
       "      <th>Price</th>\n",
       "      <th>MPG.city</th>\n",
       "    </tr>\n",
       "  </thead>\n",
       "  <tbody>\n",
       "    <tr>\n",
       "      <th>0</th>\n",
       "      <td>15.9</td>\n",
       "      <td>25</td>\n",
       "    </tr>\n",
       "    <tr>\n",
       "      <th>1</th>\n",
       "      <td>33.9</td>\n",
       "      <td>18</td>\n",
       "    </tr>\n",
       "    <tr>\n",
       "      <th>2</th>\n",
       "      <td>29.1</td>\n",
       "      <td>20</td>\n",
       "    </tr>\n",
       "    <tr>\n",
       "      <th>3</th>\n",
       "      <td>37.7</td>\n",
       "      <td>19</td>\n",
       "    </tr>\n",
       "    <tr>\n",
       "      <th>4</th>\n",
       "      <td>30.0</td>\n",
       "      <td>22</td>\n",
       "    </tr>\n",
       "    <tr>\n",
       "      <th>...</th>\n",
       "      <td>...</td>\n",
       "      <td>...</td>\n",
       "    </tr>\n",
       "    <tr>\n",
       "      <th>88</th>\n",
       "      <td>19.7</td>\n",
       "      <td>17</td>\n",
       "    </tr>\n",
       "    <tr>\n",
       "      <th>89</th>\n",
       "      <td>20.0</td>\n",
       "      <td>21</td>\n",
       "    </tr>\n",
       "    <tr>\n",
       "      <th>90</th>\n",
       "      <td>23.3</td>\n",
       "      <td>18</td>\n",
       "    </tr>\n",
       "    <tr>\n",
       "      <th>91</th>\n",
       "      <td>22.7</td>\n",
       "      <td>21</td>\n",
       "    </tr>\n",
       "    <tr>\n",
       "      <th>92</th>\n",
       "      <td>26.7</td>\n",
       "      <td>20</td>\n",
       "    </tr>\n",
       "  </tbody>\n",
       "</table>\n",
       "<p>93 rows × 2 columns</p>\n",
       "</div>"
      ],
      "text/plain": [
       "    Price  MPG.city\n",
       "0    15.9        25\n",
       "1    33.9        18\n",
       "2    29.1        20\n",
       "3    37.7        19\n",
       "4    30.0        22\n",
       "..    ...       ...\n",
       "88   19.7        17\n",
       "89   20.0        21\n",
       "90   23.3        18\n",
       "91   22.7        21\n",
       "92   26.7        20\n",
       "\n",
       "[93 rows x 2 columns]"
      ]
     },
     "execution_count": 4,
     "metadata": {},
     "output_type": "execute_result"
    }
   ],
   "source": [
    "A[[\"Price\",\"MPG.city\"]]\n",
    "# we want to cluster this two columns"
   ]
  },
  {
   "cell_type": "markdown",
   "id": "093d8d1d",
   "metadata": {},
   "source": [
    "# Standerization by MinMaxScaler"
   ]
  },
  {
   "cell_type": "code",
   "execution_count": 6,
   "id": "5e3f8ba0",
   "metadata": {},
   "outputs": [],
   "source": [
    "from sklearn.preprocessing import MinMaxScaler\n",
    "mm = MinMaxScaler()\n",
    "Q = pd.DataFrame(mm.fit_transform(A[[\"Price\",\"MPG.city\"]]),columns=[\"Price\",\"MPG.city\"])# data in form of array,converting it into data frame"
   ]
  },
  {
   "cell_type": "markdown",
   "id": "6f2f8493",
   "metadata": {},
   "source": [
    "# Applying KMeans clustering Model"
   ]
  },
  {
   "cell_type": "code",
   "execution_count": 7,
   "id": "ce481d36",
   "metadata": {},
   "outputs": [
    {
     "data": {
      "text/plain": [
       "array([4, 2, 1, 2, 1, 4, 1, 1, 1, 2, 2, 4, 4, 1, 4, 1, 1, 1, 2, 1, 4, 1,\n",
       "       0, 4, 4, 1, 4, 1, 0, 1, 0, 4, 4, 4, 4, 1, 1, 1, 3, 0, 4, 3, 4, 0,\n",
       "       4, 0, 4, 2, 1, 2, 2, 2, 0, 0, 4, 1, 2, 2, 2, 4, 1, 0, 1, 0, 4, 1,\n",
       "       1, 4, 4, 1, 1, 4, 0, 4, 1, 1, 1, 1, 0, 0, 4, 4, 3, 0, 4, 4, 1, 4,\n",
       "       1, 1, 1, 1, 1])"
      ]
     },
     "execution_count": 7,
     "metadata": {},
     "output_type": "execute_result"
    }
   ],
   "source": [
    "from sklearn.cluster import KMeans\n",
    "km = KMeans(n_clusters=5)\n",
    "model = km.fit(Q)\n",
    "model.labels_\n",
    "\n",
    "# labels represent which value belong to which cluster"
   ]
  },
  {
   "cell_type": "code",
   "execution_count": 8,
   "id": "863ad312",
   "metadata": {},
   "outputs": [],
   "source": [
    "W = A[[\"Price\",\"MPG.city\"]]\n",
    "W[\"Cluster\"] = model.labels_\n",
    "W[\"Model\"]  = A[[\"Make\"]] # Make ---> Model + Brand"
   ]
  },
  {
   "cell_type": "code",
   "execution_count": 9,
   "id": "9043dd4c",
   "metadata": {},
   "outputs": [
    {
     "data": {
      "text/html": [
       "<div>\n",
       "<style scoped>\n",
       "    .dataframe tbody tr th:only-of-type {\n",
       "        vertical-align: middle;\n",
       "    }\n",
       "\n",
       "    .dataframe tbody tr th {\n",
       "        vertical-align: top;\n",
       "    }\n",
       "\n",
       "    .dataframe thead th {\n",
       "        text-align: right;\n",
       "    }\n",
       "</style>\n",
       "<table border=\"1\" class=\"dataframe\">\n",
       "  <thead>\n",
       "    <tr style=\"text-align: right;\">\n",
       "      <th></th>\n",
       "      <th>Price</th>\n",
       "      <th>MPG.city</th>\n",
       "      <th>Cluster</th>\n",
       "      <th>Model</th>\n",
       "    </tr>\n",
       "  </thead>\n",
       "  <tbody>\n",
       "    <tr>\n",
       "      <th>0</th>\n",
       "      <td>15.9</td>\n",
       "      <td>25</td>\n",
       "      <td>4</td>\n",
       "      <td>Acura Integra</td>\n",
       "    </tr>\n",
       "    <tr>\n",
       "      <th>1</th>\n",
       "      <td>33.9</td>\n",
       "      <td>18</td>\n",
       "      <td>2</td>\n",
       "      <td>Acura Legend</td>\n",
       "    </tr>\n",
       "    <tr>\n",
       "      <th>2</th>\n",
       "      <td>29.1</td>\n",
       "      <td>20</td>\n",
       "      <td>1</td>\n",
       "      <td>Audi 90</td>\n",
       "    </tr>\n",
       "    <tr>\n",
       "      <th>3</th>\n",
       "      <td>37.7</td>\n",
       "      <td>19</td>\n",
       "      <td>2</td>\n",
       "      <td>Audi 100</td>\n",
       "    </tr>\n",
       "    <tr>\n",
       "      <th>4</th>\n",
       "      <td>30.0</td>\n",
       "      <td>22</td>\n",
       "      <td>1</td>\n",
       "      <td>BMW 535i</td>\n",
       "    </tr>\n",
       "    <tr>\n",
       "      <th>...</th>\n",
       "      <td>...</td>\n",
       "      <td>...</td>\n",
       "      <td>...</td>\n",
       "      <td>...</td>\n",
       "    </tr>\n",
       "    <tr>\n",
       "      <th>88</th>\n",
       "      <td>19.7</td>\n",
       "      <td>17</td>\n",
       "      <td>1</td>\n",
       "      <td>Volkswagen Eurovan</td>\n",
       "    </tr>\n",
       "    <tr>\n",
       "      <th>89</th>\n",
       "      <td>20.0</td>\n",
       "      <td>21</td>\n",
       "      <td>1</td>\n",
       "      <td>Volkswagen Passat</td>\n",
       "    </tr>\n",
       "    <tr>\n",
       "      <th>90</th>\n",
       "      <td>23.3</td>\n",
       "      <td>18</td>\n",
       "      <td>1</td>\n",
       "      <td>Volkswagen Corrado</td>\n",
       "    </tr>\n",
       "    <tr>\n",
       "      <th>91</th>\n",
       "      <td>22.7</td>\n",
       "      <td>21</td>\n",
       "      <td>1</td>\n",
       "      <td>Volvo 240</td>\n",
       "    </tr>\n",
       "    <tr>\n",
       "      <th>92</th>\n",
       "      <td>26.7</td>\n",
       "      <td>20</td>\n",
       "      <td>1</td>\n",
       "      <td>Volvo 850</td>\n",
       "    </tr>\n",
       "  </tbody>\n",
       "</table>\n",
       "<p>93 rows × 4 columns</p>\n",
       "</div>"
      ],
      "text/plain": [
       "    Price  MPG.city  Cluster               Model\n",
       "0    15.9        25        4       Acura Integra\n",
       "1    33.9        18        2        Acura Legend\n",
       "2    29.1        20        1             Audi 90\n",
       "3    37.7        19        2            Audi 100\n",
       "4    30.0        22        1            BMW 535i\n",
       "..    ...       ...      ...                 ...\n",
       "88   19.7        17        1  Volkswagen Eurovan\n",
       "89   20.0        21        1   Volkswagen Passat\n",
       "90   23.3        18        1  Volkswagen Corrado\n",
       "91   22.7        21        1           Volvo 240\n",
       "92   26.7        20        1           Volvo 850\n",
       "\n",
       "[93 rows x 4 columns]"
      ]
     },
     "execution_count": 9,
     "metadata": {},
     "output_type": "execute_result"
    }
   ],
   "source": [
    "W"
   ]
  },
  {
   "cell_type": "markdown",
   "id": "dd82361f",
   "metadata": {},
   "source": [
    "# Prediction the similar kind of car by Price and MPG.city"
   ]
  },
  {
   "cell_type": "code",
   "execution_count": 11,
   "id": "de02b50d",
   "metadata": {},
   "outputs": [
    {
     "name": "stdout",
     "output_type": "stream",
     "text": [
      "Select your car, and we will give you recommendation for similar car also.Acura Integra\n"
     ]
    },
    {
     "data": {
      "text/plain": [
       "['Acura Integra',\n",
       " 'Buick Century',\n",
       " 'Chevrolet Cavalier',\n",
       " 'Chevrolet Corsica',\n",
       " 'Chevrolet Lumina',\n",
       " 'Chrysler LeBaron',\n",
       " 'Dodge Shadow',\n",
       " 'Dodge Spirit',\n",
       " 'Dodge Dynasty',\n",
       " 'Ford Escort',\n",
       " 'Ford Tempo',\n",
       " 'Ford Mustang',\n",
       " 'Ford Probe',\n",
       " 'Honda Prelude',\n",
       " 'Honda Accord',\n",
       " 'Hyundai Elantra',\n",
       " 'Hyundai Sonata',\n",
       " 'Mazda 626',\n",
       " 'Mercury Capri',\n",
       " 'Nissan Altima',\n",
       " 'Oldsmobile Achieva',\n",
       " 'Oldsmobile Cutlass_Ciera',\n",
       " 'Plymouth Laser',\n",
       " 'Pontiac Sunbird',\n",
       " 'Subaru Loyale',\n",
       " 'Subaru Legacy',\n",
       " 'Toyota Celica',\n",
       " 'Toyota Camry',\n",
       " 'Volkswagen Fox']"
      ]
     },
     "execution_count": 11,
     "metadata": {},
     "output_type": "execute_result"
    }
   ],
   "source": [
    "a = input(\"Select your car, and we will give you recommendation for similar car also.\")\n",
    "cluster_number =  W[W.Model == a].Cluster.values[0]\n",
    "similar_cars = list(W[W.Cluster == cluster_number].Model)\n",
    "similar_cars"
   ]
  },
  {
   "cell_type": "code",
   "execution_count": 12,
   "id": "d47b0417",
   "metadata": {},
   "outputs": [
    {
     "data": {
      "text/plain": [
       "['Acura Integra',\n",
       " 'Buick Century',\n",
       " 'Chevrolet Cavalier',\n",
       " 'Chevrolet Corsica',\n",
       " 'Chevrolet Lumina',\n",
       " 'Chrysler LeBaron',\n",
       " 'Dodge Shadow',\n",
       " 'Dodge Spirit',\n",
       " 'Dodge Dynasty',\n",
       " 'Ford Escort',\n",
       " 'Ford Tempo',\n",
       " 'Ford Mustang',\n",
       " 'Ford Probe',\n",
       " 'Honda Prelude',\n",
       " 'Honda Accord',\n",
       " 'Hyundai Elantra',\n",
       " 'Hyundai Sonata',\n",
       " 'Mazda 626',\n",
       " 'Mercury Capri',\n",
       " 'Nissan Altima',\n",
       " 'Oldsmobile Achieva',\n",
       " 'Oldsmobile Cutlass_Ciera',\n",
       " 'Plymouth Laser',\n",
       " 'Pontiac Sunbird',\n",
       " 'Subaru Loyale',\n",
       " 'Subaru Legacy',\n",
       " 'Toyota Celica',\n",
       " 'Toyota Camry',\n",
       " 'Volkswagen Fox']"
      ]
     },
     "execution_count": 12,
     "metadata": {},
     "output_type": "execute_result"
    }
   ],
   "source": [
    "similar_cars"
   ]
  },
  {
   "cell_type": "code",
   "execution_count": 13,
   "id": "21909e1d",
   "metadata": {},
   "outputs": [
    {
     "data": {
      "text/html": [
       "<div>\n",
       "<style scoped>\n",
       "    .dataframe tbody tr th:only-of-type {\n",
       "        vertical-align: middle;\n",
       "    }\n",
       "\n",
       "    .dataframe tbody tr th {\n",
       "        vertical-align: top;\n",
       "    }\n",
       "\n",
       "    .dataframe thead th {\n",
       "        text-align: right;\n",
       "    }\n",
       "</style>\n",
       "<table border=\"1\" class=\"dataframe\">\n",
       "  <thead>\n",
       "    <tr style=\"text-align: right;\">\n",
       "      <th></th>\n",
       "      <th>Make</th>\n",
       "    </tr>\n",
       "  </thead>\n",
       "  <tbody>\n",
       "    <tr>\n",
       "      <th>0</th>\n",
       "      <td>Acura Integra</td>\n",
       "    </tr>\n",
       "    <tr>\n",
       "      <th>1</th>\n",
       "      <td>Acura Legend</td>\n",
       "    </tr>\n",
       "    <tr>\n",
       "      <th>2</th>\n",
       "      <td>Audi 90</td>\n",
       "    </tr>\n",
       "    <tr>\n",
       "      <th>3</th>\n",
       "      <td>Audi 100</td>\n",
       "    </tr>\n",
       "    <tr>\n",
       "      <th>4</th>\n",
       "      <td>BMW 535i</td>\n",
       "    </tr>\n",
       "    <tr>\n",
       "      <th>...</th>\n",
       "      <td>...</td>\n",
       "    </tr>\n",
       "    <tr>\n",
       "      <th>88</th>\n",
       "      <td>Volkswagen Eurovan</td>\n",
       "    </tr>\n",
       "    <tr>\n",
       "      <th>89</th>\n",
       "      <td>Volkswagen Passat</td>\n",
       "    </tr>\n",
       "    <tr>\n",
       "      <th>90</th>\n",
       "      <td>Volkswagen Corrado</td>\n",
       "    </tr>\n",
       "    <tr>\n",
       "      <th>91</th>\n",
       "      <td>Volvo 240</td>\n",
       "    </tr>\n",
       "    <tr>\n",
       "      <th>92</th>\n",
       "      <td>Volvo 850</td>\n",
       "    </tr>\n",
       "  </tbody>\n",
       "</table>\n",
       "<p>93 rows × 1 columns</p>\n",
       "</div>"
      ],
      "text/plain": [
       "                  Make\n",
       "0        Acura Integra\n",
       "1         Acura Legend\n",
       "2              Audi 90\n",
       "3             Audi 100\n",
       "4             BMW 535i\n",
       "..                 ...\n",
       "88  Volkswagen Eurovan\n",
       "89   Volkswagen Passat\n",
       "90  Volkswagen Corrado\n",
       "91           Volvo 240\n",
       "92           Volvo 850\n",
       "\n",
       "[93 rows x 1 columns]"
      ]
     },
     "execution_count": 13,
     "metadata": {},
     "output_type": "execute_result"
    }
   ],
   "source": [
    "A[[\"Make\"]]"
   ]
  },
  {
   "cell_type": "markdown",
   "id": "89f52341",
   "metadata": {},
   "source": [
    "# Elbow Curve(X(K),Y(WCSS(Inertia))) :\n",
    "\n",
    "For each value of K, we are calculating WCSS ( Within-Cluster Sum of Square ). WCSS is the sum of squared distance between each point and the centroid in a cluster. When we plot the WCSS with the K value, the plot looks like an Elbow. As the number of clusters increases, the WCSS value will start to decrease"
   ]
  },
  {
   "cell_type": "code",
   "execution_count": 14,
   "id": "7070e028",
   "metadata": {},
   "outputs": [],
   "source": [
    "wcss = []\n",
    "K = range(1,20,1)\n",
    "for i in K:\n",
    "    km = KMeans(n_clusters=i)\n",
    "    model = km.fit(Q)\n",
    "    wcss.append(model.inertia_)"
   ]
  },
  {
   "cell_type": "code",
   "execution_count": 15,
   "id": "0dba559c",
   "metadata": {},
   "outputs": [
    {
     "data": {
      "text/plain": [
       "range(1, 20)"
      ]
     },
     "execution_count": 15,
     "metadata": {},
     "output_type": "execute_result"
    }
   ],
   "source": [
    "\n",
    "K"
   ]
  },
  {
   "cell_type": "code",
   "execution_count": 16,
   "id": "9de4d2b5",
   "metadata": {},
   "outputs": [
    {
     "data": {
      "text/plain": [
       "[5.913485432978065,\n",
       " 2.984556204508492,\n",
       " 1.7604339512829656,\n",
       " 1.2111248917250903,\n",
       " 0.8192793244565985,\n",
       " 0.553661513906029,\n",
       " 0.4430024390535746,\n",
       " 0.3702548013029325,\n",
       " 0.3201232402198999,\n",
       " 0.2778537638598535,\n",
       " 0.2526828142408572,\n",
       " 0.2298158721381085,\n",
       " 0.2023207093483783,\n",
       " 0.17278898478796895,\n",
       " 0.16143625477650667,\n",
       " 0.1414531952763495,\n",
       " 0.12503283922173106,\n",
       " 0.11252448086449925,\n",
       " 0.10601837750286233]"
      ]
     },
     "execution_count": 16,
     "metadata": {},
     "output_type": "execute_result"
    }
   ],
   "source": [
    "wcss"
   ]
  },
  {
   "cell_type": "markdown",
   "id": "46bb14d5",
   "metadata": {},
   "source": [
    "# Finding out the best value of K by using Elbow curve"
   ]
  },
  {
   "cell_type": "code",
   "execution_count": 17,
   "id": "4c724273",
   "metadata": {},
   "outputs": [
    {
     "data": {
      "image/png": "[encoded data removed]",
      "text/plain": [
       "<Figure size 432x288 with 1 Axes>"
      ]
     },
     "metadata": {
      "needs_background": "light"
     },
     "output_type": "display_data"
    }
   ],
   "source": [
    "import matplotlib.pyplot as plt\n",
    "plt.scatter(K,wcss,c = \"red\")\n",
    "plt.plot(K,wcss,\"green\")\n",
    "plt.xticks(range(1,20,1))\n",
    "plt.show()"
   ]
  },
  {
   "cell_type": "code",
   "execution_count": 18,
   "id": "6de2ed1e",
   "metadata": {},
   "outputs": [
    {
     "data": {
      "text/plain": [
       "<matplotlib.collections.PathCollection at 0x25f52f99640>"
      ]
     },
     "execution_count": 18,
     "metadata": {},
     "output_type": "execute_result"
    },
    {
     "data": {
      "image/png": "[encoded data removed]",
      "text/plain": [
       "<Figure size 432x288 with 1 Axes>"
      ]
     },
     "metadata": {
      "needs_background": "light"
     },
     "output_type": "display_data"
    }
   ],
   "source": [
    "plt.scatter(Q.Price,Q[\"MPG.city\"],c = W.Cluster)"
   ]
  },
  {
   "cell_type": "code",
   "execution_count": 19,
   "id": "f49984a4",
   "metadata": {},
   "outputs": [
    {
     "data": {
      "text/plain": [
       "array([[0.12900981, 0.26585095],\n",
       "       [0.57400612, 0.08602151],\n",
       "       [0.26422018, 0.11889401],\n",
       "       [0.04220183, 0.88172043],\n",
       "       [0.04718218, 0.46774194]])"
      ]
     },
     "execution_count": 19,
     "metadata": {},
     "output_type": "execute_result"
    }
   ],
   "source": [
    "from sklearn.cluster import KMeans\n",
    "km = KMeans(n_clusters=5)\n",
    "model = km.fit(Q)\n",
    "model.labels_\n",
    "model.cluster_centers_"
   ]
  },
  {
   "cell_type": "code",
   "execution_count": 20,
   "id": "b93520b2",
   "metadata": {},
   "outputs": [],
   "source": [
    "w1 = pd.DataFrame(model.cluster_centers_,columns=[\"X\",\"Y\"])"
   ]
  },
  {
   "cell_type": "code",
   "execution_count": 21,
   "id": "f3602b69",
   "metadata": {},
   "outputs": [
    {
     "data": {
      "text/plain": [
       "<matplotlib.collections.PathCollection at 0x25f53004700>"
      ]
     },
     "execution_count": 21,
     "metadata": {},
     "output_type": "execute_result"
    },
    {
     "data": {
      "image/png": "[encoded data removed]",
      "text/plain": [
       "<Figure size 432x288 with 1 Axes>"
      ]
     },
     "metadata": {
      "needs_background": "light"
     },
     "output_type": "display_data"
    }
   ],
   "source": [
    "plt.scatter(Q.Price,Q[\"MPG.city\"],c = W.Cluster)\n",
    "plt.scatter(w1.X,w1.Y,color = \"red\")"
   ]
  },
  {
   "cell_type": "markdown",
   "id": "2eee9b72",
   "metadata": {},
   "source": [
    "4 is the best value of k"
   ]
  },
  {
   "cell_type": "code",
   "execution_count": null,
   "id": "9d5a8955",
   "metadata": {},
   "outputs": [],
   "source": []
  }
 ],
 "metadata": {
  "kernelspec": {
   "display_name": "Python 3",
   "language": "python",
   "name": "python3"
  },
  "language_info": {
   "codemirror_mode": {
    "name": "ipython",
    "version": 3
   },
   "file_extension": ".py",
   "mimetype": "text/x-python",
   "name": "python",
   "nbconvert_exporter": "python",
   "pygments_lexer": "ipython3",
   "version": "3.8.8"
  }
 },
 "nbformat": 4,
 "nbformat_minor": 5
}
